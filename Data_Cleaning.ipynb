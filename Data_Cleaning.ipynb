{
 "cells": [
  {
   "cell_type": "code",
   "execution_count": 100,
   "metadata": {},
   "outputs": [
    {
     "name": "stdout",
     "output_type": "stream",
     "text": [
      "428\n",
      "^^^^^^ 0\n",
      "#@########## .DC INTL POS TXN MARKUP+ST 200823 220823-MIR2426116437661\n",
      "TYPE::  <class 'pandas._libs.tslibs.timestamps.Timestamp'>\n"
     ]
    },
    {
     "name": "stderr",
     "output_type": "stream",
     "text": [
      "C:\\Users\\ansht\\AppData\\Local\\Temp/ipykernel_6852/1643342472.py:25: SettingWithCopyWarning: \n",
      "A value is trying to be set on a copy of a slice from a DataFrame\n",
      "\n",
      "See the caveats in the documentation: https://pandas.pydata.org/pandas-docs/stable/user_guide/indexing.html#returning-a-view-versus-a-copy\n",
      "  data[\"Review Status\"][i] = True\n",
      "c:\\Users\\ansht\\AppData\\Local\\Programs\\Python\\Python39\\lib\\site-packages\\pandas\\core\\indexing.py:1732: SettingWithCopyWarning: \n",
      "A value is trying to be set on a copy of a slice from a DataFrame\n",
      "\n",
      "See the caveats in the documentation: https://pandas.pydata.org/pandas-docs/stable/user_guide/indexing.html#returning-a-view-versus-a-copy\n",
      "  self._setitem_single_block(indexer, value, name)\n",
      "C:\\Users\\ansht\\AppData\\Local\\Temp/ipykernel_6852/1643342472.py:34: SettingWithCopyWarning: \n",
      "A value is trying to be set on a copy of a slice from a DataFrame\n",
      "\n",
      "See the caveats in the documentation: https://pandas.pydata.org/pandas-docs/stable/user_guide/indexing.html#returning-a-view-versus-a-copy\n",
      "  data[\"Expense Classification\"][i] = m\n",
      "C:\\Users\\ansht\\AppData\\Local\\Temp/ipykernel_6852/1643342472.py:54: FutureWarning: Inferring datetime64[ns] from data containing strings is deprecated and will be removed in a future version. To retain the old behavior explicitly pass Series(data, dtype={value.dtype})\n",
      "  data['Date'] = data['Date'].apply(date_cleaner)\n"
     ]
    },
    {
     "data": {
      "text/plain": [
       "Index(['Date', 'Narration', 'Withdrawal Amt.', 'Deposit Amt.', 'Unique',\n",
       "       'Expense Vendor', 'Expense Classification', 'Expense Details',\n",
       "       'Inflow Classification'],\n",
       "      dtype='object')"
      ]
     },
     "execution_count": 100,
     "metadata": {},
     "output_type": "execute_result"
    }
   ],
   "source": [
    "\n",
    "import pandas as pd\n",
    "data = pd.read_csv(\"PFcsv.csv\")\n",
    "import datetime\n",
    "classification = {}\n",
    "\n",
    "classification[\"Personal\"] = [\"bookmyshow\", \"cinepolis\",\"pvr\", \"personal\"]\n",
    "classification[\"Grocery\"] = [\"singhshindu\", \"grofers\", \"swiggyinstamart\", \"grocery\", \"licious\", \"zepto\", \"lemarche\"]\n",
    "classification[\"Outside Food\"] = [\"kesharwani\", \"guddukumar\", \"swiggyupi\",\"eatsure\",\"zomato\", \"outsidefood\", \"thirdwave\", \"swiggystores\"]\n",
    "classification[\"Fuel/Car Maintainence/Challans\"] = [\"tejenrajbanshi\",\"petrol\",\"fuel\"]\n",
    "classification[\"Purchases/Personal\"] = [\"youtube\",\"googleplay\",\"spotify\",\"steamgames\", \"netflix\",\"hotstar\", \"personal\"]\n",
    "classification[\"Investments\"] = [\"zerodha\",\"indianclearingcorp\"]\n",
    "classification[\"Credit Card\"] = [\"creditcard\", \"cred\"]\n",
    "classification[\"House\"] = [\"maid\",\"cook\",\"gas\",\"electricity\",\"waterpurifier\",\"waterfilter\", \"house\", \"deviduttjoshi\"]\n",
    "classification[\"Alcohol\"] = [\"alcohol\"]\n",
    "\n",
    "print(len(data[\"Narration\"]))\n",
    "\n",
    "\n",
    "i = len(data[\"Review Status\"][data[\"Review Status\"]==True])\n",
    "print(\"^^^^^^\",i)\n",
    "print(\"#@##########\",data[\"Narration\"][i])\n",
    "while i<len(data[\"Narration\"]):\n",
    "    narration = data[\"Narration\"][i]\n",
    "    narration = \"\".join(\"\".join(str(narration).lower().split(\"-\")).split(\" \"))\n",
    "    data[\"Review Status\"][i] = True\n",
    "    gate = False\n",
    "    for m,n in classification.items():\n",
    "        if str(data[\"Expense Classification\"][i])  == \"nan\":\n",
    "            if gate == False:\n",
    "                for m,n in classification.items():\n",
    "                    #if gate == False:\n",
    "                        for dict_element in n:\n",
    "                            if dict_element in narration:\n",
    "                                data[\"Expense Classification\"][i] = m\n",
    "                                #print(dict_element, \"-----------\", narration)\n",
    "                                #gate = True\n",
    "                                #print(\"HI  \", m)\n",
    "                                # if gate==True:\n",
    "                                #     break\n",
    "\n",
    "                            \n",
    "    i+=1\n",
    "\n",
    "#data.to_csv(\"Cleaned_CSV.csv\")\n",
    "#data['Date'].apply(lambda x: (datetime.datetime(x)))\n",
    "def date_cleaner(date_):\n",
    "    if type(date_) == str:\n",
    "        return datetime.datetime(int('20'+date_.split(\"/\")[2]), int(date_.split(\"/\")[1]), int(date_.split(\"/\")[0]))\n",
    "    else:\n",
    "        return \"\"\n",
    "\n",
    "\n",
    "\n",
    "data['Date'] = data['Date'].apply(date_cleaner)\n",
    "#data['Date'] = pd.to_datetime(data[\"Date\"])\n",
    "data['Date'][2]\n",
    "\n",
    "# def null_finder(date_):\n",
    "#     if type(date_) == pd.Timestamp:\n",
    "#         return date_\n",
    "#     else:\n",
    "#         return '11-11-1900'\n",
    "\n",
    "\n",
    "#data['Date'] = data['Date'].apply(null_finder)\n",
    "\n",
    "\n",
    "#data['Date'] = pd.to_datetime(data[\"Date\"]).dt.strftime(\"%Y-%m-%d\")\n",
    "\n",
    "#data['Date'].apply()\n",
    "data= data.drop(['Value Dt', 'Date_Value', 'Chq./Ref.No.', 'Review Status', 'Closing Balance'], axis=1)\n",
    "for val in ['Withdrawal Amt.', 'Deposit Amt.']:\n",
    "    data[f'{val}'].apply(lambda x: float(x))\n",
    "\n",
    "print(\"TYPE:: \", type(data['Date'][0]))\n",
    "data.to_csv(\"Cleaned_CSV.csv\", index=False)\n",
    "data.columns"
   ]
  },
  {
   "cell_type": "code",
   "execution_count": 64,
   "metadata": {},
   "outputs": [
    {
     "data": {
      "text/plain": [
       "False"
      ]
     },
     "execution_count": 64,
     "metadata": {},
     "output_type": "execute_result"
    }
   ],
   "source": [
    "type(data['Date'][427]) == pd.Timestamp"
   ]
  }
 ],
 "metadata": {
  "kernelspec": {
   "display_name": "Python 3",
   "language": "python",
   "name": "python3"
  },
  "language_info": {
   "codemirror_mode": {
    "name": "ipython",
    "version": 3
   },
   "file_extension": ".py",
   "mimetype": "text/x-python",
   "name": "python",
   "nbconvert_exporter": "python",
   "pygments_lexer": "ipython3",
   "version": "3.9.7"
  }
 },
 "nbformat": 4,
 "nbformat_minor": 2
}
